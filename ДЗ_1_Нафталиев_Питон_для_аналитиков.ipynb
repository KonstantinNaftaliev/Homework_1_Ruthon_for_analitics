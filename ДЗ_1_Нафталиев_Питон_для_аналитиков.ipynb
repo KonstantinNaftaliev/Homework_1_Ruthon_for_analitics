{
  "nbformat": 4,
  "nbformat_minor": 0,
  "metadata": {
    "colab": {
      "provenance": []
    },
    "kernelspec": {
      "name": "python3",
      "display_name": "Python 3"
    },
    "language_info": {
      "name": "python"
    }
  },
  "cells": [
    {
      "cell_type": "code",
      "execution_count": 1,
      "metadata": {
        "id": "8nSZWofSaPgB"
      },
      "outputs": [],
      "source": [
        "import pandas as pd"
      ]
    },
    {
      "cell_type": "markdown",
      "source": [
        "## Условие 2:"
      ],
      "metadata": {
        "id": "h5kkOEB4bAEk"
      }
    },
    {
      "cell_type": "markdown",
      "source": [
        "На складе лежат разные фрукты в разном количестве.\n",
        "\n",
        "Нужно написать функцию, которая на вход принимает любое количество названий фруктов и их количество, а возвращает общее количество фруктов на складе"
      ],
      "metadata": {
        "id": "mM0UFt6MbAG_"
      }
    },
    {
      "cell_type": "code",
      "source": [
        "def sum_fruits(**kwargs):\n",
        "  return sum([value for value in kwargs.values()])"
      ],
      "metadata": {
        "id": "hC2wV0TXbHal"
      },
      "execution_count": 2,
      "outputs": []
    },
    {
      "cell_type": "code",
      "source": [
        "sum_fruits(apples=10, oranges=15, bananas=20)"
      ],
      "metadata": {
        "colab": {
          "base_uri": "https://localhost:8080/"
        },
        "id": "Ip0kbWmwbWXw",
        "outputId": "0d72641e-7e26-4717-e88b-3a9d9de62681"
      },
      "execution_count": 3,
      "outputs": [
        {
          "output_type": "execute_result",
          "data": {
            "text/plain": [
              "45"
            ]
          },
          "metadata": {},
          "execution_count": 3
        }
      ]
    },
    {
      "cell_type": "markdown",
      "source": [
        "## Условие 3:"
      ],
      "metadata": {
        "id": "zUuT6qwxboO2"
      }
    },
    {
      "cell_type": "markdown",
      "source": [
        "Дан список с затратами на рекламу. \n",
        "\n",
        "Но в данных есть ошибки, некоторые затраты имеют отрицательную величину. Удалите такие значения из списка и посчитайте суммарные затраты\n",
        "\n",
        "[100, 125, -90, 345, 655, -1, 0, 200]\n",
        "\n",
        "Используйте list comprehensions"
      ],
      "metadata": {
        "id": "tcML5zpUbruP"
      }
    },
    {
      "cell_type": "code",
      "source": [
        "prices = [100, 125, -90, 345, 655, -1, 0, 200]"
      ],
      "metadata": {
        "id": "6aTpbOAMbwVr"
      },
      "execution_count": 4,
      "outputs": []
    },
    {
      "cell_type": "code",
      "source": [
        "corrected_prices = [value for value in prices if value>0]"
      ],
      "metadata": {
        "id": "freDUduabz1U"
      },
      "execution_count": 5,
      "outputs": []
    },
    {
      "cell_type": "code",
      "source": [
        "sum(corrected_prices)"
      ],
      "metadata": {
        "colab": {
          "base_uri": "https://localhost:8080/"
        },
        "id": "cyok05d6cAim",
        "outputId": "81394fc9-f227-4be3-b2e1-34505d3a0d98"
      },
      "execution_count": 6,
      "outputs": [
        {
          "output_type": "execute_result",
          "data": {
            "text/plain": [
              "1425"
            ]
          },
          "metadata": {},
          "execution_count": 6
        }
      ]
    },
    {
      "cell_type": "markdown",
      "source": [
        "## Условие 4.\n",
        "Даны два списка.\n",
        "\n",
        "Дата покупки\n",
        "\n",
        "['2021-09-14', '2021-12-15', '2021-09-08', '2021-12-05', '2021-10-09', '2021-09-30', '2021-12-22', '2021-11-29', '2021-12-24', '2021-11-26', '2021-10-27', '2021-12-18', '2021-11-09', '2021-11-23', '2021-09-27', '2021-10-02', '2021-12-27', '2021-09-20', '2021-12-13', '2021-11-01', '2021-11-09', '2021-12-06', '2021-12-08', '2021-10-09', '2021-10-31', '2021-09-30', '2021-11-09', '2021-12-13', '2021-10-26', '2021-12-09']\n",
        "\n",
        "Суммы покупок по датам\n",
        "\n",
        "[1270, 8413, 9028, 3703, 5739, 4095, 295, 4944, 5723, 3701, 4471, 651, 7037, 4274, 6275, 4988, 6930, 2971, 6592, 2004, 2822, 519, 3406, 2732, 5015, 2008, 316, 6333, 5700, 2887]"
      ],
      "metadata": {
        "id": "ZaxfSs6pcH8I"
      }
    },
    {
      "cell_type": "markdown",
      "source": [
        "### Условие 4.1.\n",
        "Найдите, какая выручка у компании в ноябре\n",
        "Используйте list comprehensions"
      ],
      "metadata": {
        "id": "U3XKMUKfcY6z"
      }
    },
    {
      "cell_type": "code",
      "source": [
        "dates = ['2021-09-14', '2021-12-15', '2021-09-08', '2021-12-05', '2021-10-09', '2021-09-30', '2021-12-22', '2021-11-29', '2021-12-24', '2021-11-26', '2021-10-27', '2021-12-18', '2021-11-09', '2021-11-23', '2021-09-27', '2021-10-02', '2021-12-27', '2021-09-20', '2021-12-13', '2021-11-01', '2021-11-09', '2021-12-06', '2021-12-08', '2021-10-09', '2021-10-31', '2021-09-30', '2021-11-09', '2021-12-13', '2021-10-26', '2021-12-09']"
      ],
      "metadata": {
        "id": "ft_OtFuocryP"
      },
      "execution_count": 7,
      "outputs": []
    },
    {
      "cell_type": "code",
      "source": [
        "amounts = [1270, 8413, 9028, 3703, 5739, 4095, 295, 4944, 5723, 3701, 4471, 651, 7037, 4274, 6275, 4988, 6930, 2971, 6592, 2004, 2822, 519, 3406, 2732, 5015, 2008, 316, 6333, 5700, 2887]"
      ],
      "metadata": {
        "id": "VdUDZFf7cvjl"
      },
      "execution_count": 8,
      "outputs": []
    },
    {
      "cell_type": "code",
      "source": [
        "enumerated_dates = enumerate(dates)"
      ],
      "metadata": {
        "id": "HfMGjJdBc2nS"
      },
      "execution_count": 9,
      "outputs": []
    },
    {
      "cell_type": "code",
      "source": [
        "november = [index for (index,date) in enumerated_dates if date.split('-')[1]=='11']"
      ],
      "metadata": {
        "id": "LqHsV5MLc_EL"
      },
      "execution_count": 10,
      "outputs": []
    },
    {
      "cell_type": "code",
      "source": [
        "sum([amounts[i] for i in november])"
      ],
      "metadata": {
        "colab": {
          "base_uri": "https://localhost:8080/"
        },
        "id": "dkwoa7hHdPpR",
        "outputId": "ecf9ffca-a51b-49e9-eba3-7d9da11fa59a"
      },
      "execution_count": 11,
      "outputs": [
        {
          "output_type": "execute_result",
          "data": {
            "text/plain": [
              "25098"
            ]
          },
          "metadata": {},
          "execution_count": 11
        }
      ]
    },
    {
      "cell_type": "markdown",
      "source": [
        "### 4.2 Найдите выручку компании в зависимости от месяца\n",
        "Для этого напишите функцию, которая на вход принимает список с датами и список с выручкой, а на выходе словарь, где ключи - это месяцы, а значения - это выручка.\n",
        "Используйте аннотирование типов."
      ],
      "metadata": {
        "id": "zaCgxJppdlVF"
      }
    },
    {
      "cell_type": "code",
      "source": [
        "def sum_per_month(dates: list, amounts: list) -> dict:\n",
        "  sum_per_month = dict()\n",
        "  enum_dates = enumerate(dates)\n",
        "  for (i, date) in enum_dates:\n",
        "    month = date.split('-')[1]\n",
        "    if month in sum_per_month:\n",
        "      sum_per_month[month] += amounts[i]\n",
        "    else:\n",
        "      sum_per_month[month] = amounts[i]\n",
        "  return sum_per_month"
      ],
      "metadata": {
        "id": "001L2LfSdpCJ"
      },
      "execution_count": 12,
      "outputs": []
    },
    {
      "cell_type": "code",
      "source": [
        "sum_per_month(dates, amounts)"
      ],
      "metadata": {
        "colab": {
          "base_uri": "https://localhost:8080/"
        },
        "id": "_ggePbX2h3uq",
        "outputId": "dd96ad24-1910-4fdc-fab2-99b8e3c9ebfa"
      },
      "execution_count": 13,
      "outputs": [
        {
          "output_type": "execute_result",
          "data": {
            "text/plain": [
              "{'09': 25647, '12': 45452, '10': 28645, '11': 25098}"
            ]
          },
          "metadata": {},
          "execution_count": 13
        }
      ]
    }
  ]
}